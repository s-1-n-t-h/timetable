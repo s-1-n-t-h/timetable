{
 "cells": [
  {
   "cell_type": "code",
   "execution_count": 1,
   "id": "640bba5a",
   "metadata": {},
   "outputs": [
    {
     "name": "stdout",
     "output_type": "stream",
     "text": [
      "Note: you may need to restart the kernel to use updated packages.\n"
     ]
    }
   ],
   "source": [
    "pip install -q reportlab tabulate\n"
   ]
  },
  {
   "cell_type": "code",
   "execution_count": 3,
   "id": "333298ff",
   "metadata": {},
   "outputs": [],
   "source": [
    "from reportlab.lib.pagesizes import letter\n",
    "from reportlab.pdfgen import canvas\n",
    "from reportlab.platypus import SimpleDocTemplate, Paragraph, Spacer, Table\n",
    "from reportlab.lib.styles import getSampleStyleSheet\n",
    "from tabulate import tabulate\n",
    "\n",
    "def create_timetable_pdf(data, output_filename):\n",
    "    doc = SimpleDocTemplate(output_filename, pagesize=letter)\n",
    "\n",
    "    # Container for the 'Flowable' objects\n",
    "    elements = []\n",
    "\n",
    "    # Make the table\n",
    "    table = Table(data)\n",
    "\n",
    "    # Add the table to the elements\n",
    "    elements.append(table)\n",
    "\n",
    "    # Write the document to disk\n",
    "    doc.build(elements)\n",
    "\n",
    "# Example timetable data\n",
    "data = [\n",
    "    [\"Time\", \"Monday\", \"Tuesday\", \"Wednesday\", \"Thursday\", \"Friday\"],\n",
    "    [\"9:00 - 10:00\", \"CNS\", \"AWS\", \"AJP\", \"TOC\", \"UML\"],\n",
    "    [\"10:00 - 11:00\", \"AWS\", \"UML\", \"AJP\", \"CNS\", \"TOC\"],\n",
    "    [\"11:00 - 12:00\", \"UML\", \"AJP\", \"TOC\", \"CNS\", \"AWS\"],\n",
    "    # Add more timetable entries here...\n",
    "]\n",
    "\n",
    "create_timetable_pdf(data, \"timetable.pdf\")\n"
   ]
  },
  {
   "cell_type": "code",
   "execution_count": null,
   "id": "1c2b466c",
   "metadata": {},
   "outputs": [],
   "source": []
  }
 ],
 "metadata": {
  "kernelspec": {
   "display_name": "Python 3.9 (tensorflow)",
   "language": "python",
   "name": "tensorflow"
  },
  "language_info": {
   "codemirror_mode": {
    "name": "ipython",
    "version": 3
   },
   "file_extension": ".py",
   "mimetype": "text/x-python",
   "name": "python",
   "nbconvert_exporter": "python",
   "pygments_lexer": "ipython3",
   "version": "3.9.13"
  }
 },
 "nbformat": 4,
 "nbformat_minor": 5
}
